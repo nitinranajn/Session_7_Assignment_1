{
 "cells": [
  {
   "cell_type": "markdown",
   "metadata": {},
   "source": [
    " Problem Statement\n",
    "Given a sequence of n values x1, x2, ..., xn and a window size k>0, the k-th moving\n",
    "average of the given sequence is defined as follows:\n",
    "The moving average sequence has n-k+1 elements as shown below.\n",
    "The moving averages with k=4 of a ten-value sequence (n=10) is shown below\n",
    "i 1 2 3 4 5 6 7 8 9 10\n",
    "===== == == == == == == == == == ==\n",
    "Input 10 20 30 40 50 60 70 80 90 100\n",
    "y1 25 = (10+20+30+40)/4\n",
    "y2 35 = (20+30+40+50)/4\n",
    "y3 45 = (30+40+50+60)/4\n",
    "y4 55 = (40+50+60+70)/4\n",
    "y5 65 = (50+60+70+80)/4\n",
    "y6 75 = (60+70+80+90)/4\n",
    "y7 85 = (70+80+90+100)/4\n",
    "Thus, the moving average sequence has n-k+1=10-4+1=7 values.\n",
    "\n",
    "## Problem Statement\n",
    "Write a function to find moving average in an array over a window:\n",
    "Test it over [3, 5, 7, 2, 8, 10, 11, 65, 72, 81, 99, 100, 150] and window of 3."
   ]
  },
  {
   "cell_type": "code",
   "execution_count": 81,
   "metadata": {},
   "outputs": [
    {
     "name": "stdout",
     "output_type": "stream",
     "text": [
      "INPUT ARRAY: [3, 5, 7, 2, 8, 10, 11, 65, 72, 81, 99, 100, 150]\n",
      "\n",
      "WINDOW = 3\n",
      "\n",
      "Total number in ARRAY = 13\n",
      "\n",
      "The moving average sequence has  n-k+1= 11 valuse\n",
      "\n",
      "\n",
      "Results for moving sequence as below\n",
      "======================================================\n",
      "\n",
      "Y1  =  1/k *( X1+X2+X3 )  =    5.0\n",
      "Y2  =  1/k *( X2+X3+X4 )  =    4.67\n",
      "Y3  =  1/k *( X3+X4+X5 )  =    5.67\n",
      "Y4  =  1/k *( X4+X5+X6 )  =    6.67\n",
      "Y5  =  1/k *( X5+X6+X7 )  =    9.67\n",
      "Y6  =  1/k *( X6+X7+X8 )  =    28.67\n",
      "Y7  =  1/k *( X7+X8+X9 )  =    49.33\n",
      "Y8  =  1/k *( X8+X9+X10 )  =    72.67\n",
      "Y9  =  1/k *( X9+X10+X11 )  =    84.0\n",
      "Y10  =  1/k *( X10+X11+X12 )  =    93.33\n",
      "Y11  =  1/k *( X11+X12+X13 )  =    116.33\n"
     ]
    }
   ],
   "source": [
    "import numpy as np\n",
    "k= 3\n",
    "x = [3, 5, 7, 2, 8, 10, 11, 65, 72, 81, 99, 100, 150]\n",
    "n= len(x)\n",
    "\n",
    "def moving_average(arr, win, lenArr):\n",
    "    print(\"INPUT ARRAY:\", arr)\n",
    "    print(\"\\nWINDOW =\", win)\n",
    "    print(\"\\nTotal number in ARRAY =\", lenArr)\n",
    "    m= lenArr-win+1\n",
    "    print(\"\\nThe moving average sequence has  n-k+1= %d valuse\\n\" %m)\n",
    "    print(\"\\nResults for moving sequence as below\\n======================================================\\n\")\n",
    "    for i in range(m):\n",
    "        y = (1/win)* np.sum(arr[i:k+i])\n",
    "        print(\"Y%d  =  1/k *( X%d+X%d+X%d )  =   \" %((i+1), (i+1), (i+2), (i+3)), round(y,2))\n",
    "                \n",
    "    \n",
    "    \n",
    "moving_average(x, k, n)\n",
    "\n",
    "    "
   ]
  },
  {
   "cell_type": "code",
   "execution_count": null,
   "metadata": {},
   "outputs": [],
   "source": []
  }
 ],
 "metadata": {
  "kernelspec": {
   "display_name": "Python 3",
   "language": "python",
   "name": "python3"
  },
  "language_info": {
   "codemirror_mode": {
    "name": "ipython",
    "version": 3
   },
   "file_extension": ".py",
   "mimetype": "text/x-python",
   "name": "python",
   "nbconvert_exporter": "python",
   "pygments_lexer": "ipython3",
   "version": "3.7.0"
  }
 },
 "nbformat": 4,
 "nbformat_minor": 2
}
